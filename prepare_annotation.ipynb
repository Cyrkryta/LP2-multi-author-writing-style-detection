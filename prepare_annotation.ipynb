{
 "cells": [
  {
   "cell_type": "code",
   "execution_count": 1,
   "metadata": {},
   "outputs": [],
   "source": [
    "import pandas as pd\n",
    "test = pd.read_csv('./data/test.csv')\n",
    "df_copy = test.copy()\n",
    "df_copy_dropped = df_copy.drop(['difficulty'], axis=1)\n",
    "\n",
    "import numpy as np\n",
    "df_copy_dropped['label'] = np.nan\n",
    "df_copy_dropped.head()\n",
    "df_copy_dropped.to_csv('./data/test_annotation.csv')"
   ]
  }
 ],
 "metadata": {
  "kernelspec": {
   "display_name": "writing-style-detection",
   "language": "python",
   "name": "python3"
  },
  "language_info": {
   "codemirror_mode": {
    "name": "ipython",
    "version": 3
   },
   "file_extension": ".py",
   "mimetype": "text/x-python",
   "name": "python",
   "nbconvert_exporter": "python",
   "pygments_lexer": "ipython3",
   "version": "3.10.14"
  }
 },
 "nbformat": 4,
 "nbformat_minor": 2
}
