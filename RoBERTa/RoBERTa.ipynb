{
 "cells": [
  {
   "cell_type": "markdown",
   "metadata": {},
   "source": [
    "# Data Preperation Dependencies"
   ]
  },
  {
   "cell_type": "code",
   "execution_count": 1,
   "metadata": {},
   "outputs": [],
   "source": [
    "import json\n",
    "import os"
   ]
  },
  {
   "cell_type": "markdown",
   "metadata": {},
   "source": [
    "# Data preperation"
   ]
  },
  {
   "cell_type": "code",
   "execution_count": 37,
   "metadata": {},
   "outputs": [],
   "source": [
    "def create_datasets(default_directory: str):\n",
    "    \"\"\"\n",
    "    Preprocess the data and labels to provide text pair\n",
    "\n",
    "    Args:\n",
    "        default_directory: Default directory for both training and validation data\n",
    "    \n",
    "    Returns:\n",
    "        A dictionary contained processed training and validation sets\n",
    "    \"\"\"\n",
    "\n",
    "    # Defining dictionary\n",
    "    data_dict = {\n",
    "        \"train\": [],\n",
    "        \"validation\": []\n",
    "    }\n",
    "\n",
    "    # Iterate through folders\n",
    "    for split in [\"train\", \"validation\"]:\n",
    "        for difficulty in [\"easy\", \"medium\", \"hard\"]:\n",
    "            # Difficulty dict\n",
    "            difficulty_dict = os.path.join(default_directory, difficulty)\n",
    "            # Set current directory [train, validation]\n",
    "            current_directory = os.path.join(difficulty_dict, split)\n",
    "            \n",
    "            # Iterate over all filenames\n",
    "            for filename in os.listdir(current_directory):\n",
    "                # Only work on .txt files\n",
    "                if filename.endswith(\".txt\"):\n",
    "                    text_path = os.path.join(current_directory, filename)\n",
    "                    label_path = os.path.join(current_directory, \"truth-\" + filename.replace(\".txt\", \".json\"))\n",
    "\n",
    "                    # Open an process the files\n",
    "                    # Text files\n",
    "                    with open(text_path) as f:\n",
    "                        text = f.read()\n",
    "                    paragraphs = text.strip().split(\"\\n\")\n",
    "                    # Labels\n",
    "                    with open(label_path) as f:\n",
    "                        object = json.load(f)\n",
    "                    labels = object.get(\"changes\")\n",
    "                    \n",
    "                    # print(paragraphs)\n",
    "                    # print(labels)\n",
    "\n",
    "                    # Error handling by removing badly formatted files\n",
    "                    if len(labels) != len(paragraphs)-1:\n",
    "                        os.remove(text_path)\n",
    "                        os.remove(label_path)\n",
    "                        print(\"Removed bad formatted files\")\n",
    "\n",
    "                    # Split each paragraph into tokens\n",
    "                    processed_paragraphs = [paragraph.split() for paragraph in paragraphs]\n",
    "                    \n",
    "                    # Fill up data_dict\n",
    "                    for i in range(1, len(paragraphs)):\n",
    "                        #print((paragraphs[i-1], paragraphs[i], labels[i-1]))\n",
    "                        data_dict[split].append({\"Sent1\":paragraphs[i-1], \"Sent2\":paragraphs[i], \"Label\":labels[i-1]})\n",
    "    return data_dict\n"
   ]
  },
  {
   "cell_type": "code",
   "execution_count": 38,
   "metadata": {},
   "outputs": [],
   "source": [
    "default_directory = \"../pan24-multi-author-analysis\"\n",
    "data_dict = create_datasets(default_directory=default_directory)"
   ]
  },
  {
   "cell_type": "code",
   "execution_count": 45,
   "metadata": {},
   "outputs": [
    {
     "name": "stdout",
     "output_type": "stream",
     "text": [
      "51962\n"
     ]
    },
    {
     "data": {
      "text/plain": [
       "{'Sent1': \"Only after he does as much as he can to burn the GOP to the ground. I'd much rather see a harsh primary and RNC electorate count with him pushing election lies about their primary and then have him narrowly not get the ticket and then have him start a MAGA party with some down ballot MAGA people who he picked who also lost their GOP primaries who get like 10% to 20% of the vote leading to the GOP losing states that are normally lighter red like NC, TX, great lakes states, etc...\",\n",
       " 'Sent2': \"I hate the idea. He almost won in 2020 and all the conservatives will fall in line and vote for him again in 2024 regardless of anything they say -- I would expect him to get even more votes in 2024 than he got in 2020. It's too dangerous for him to get anywhere near the presidency again. I think he will lose, but I don't want him to have the chance.\",\n",
       " 'Label': 1}"
      ]
     },
     "execution_count": 45,
     "metadata": {},
     "output_type": "execute_result"
    }
   ],
   "source": [
    "print(len(data_dict.get(\"train\")))\n",
    "data_dict.get(\"train\")[6]"
   ]
  },
  {
   "cell_type": "code",
   "execution_count": 40,
   "metadata": {},
   "outputs": [],
   "source": [
    "import pandas as pd\n",
    "train_df = pd.DataFrame(data_dict.get(\"train\"), columns=[\"Sent1\", \"Sent2\", \"Label\"])"
   ]
  },
  {
   "cell_type": "code",
   "execution_count": 41,
   "metadata": {},
   "outputs": [
    {
     "data": {
      "text/html": [
       "<div>\n",
       "<style scoped>\n",
       "    .dataframe tbody tr th:only-of-type {\n",
       "        vertical-align: middle;\n",
       "    }\n",
       "\n",
       "    .dataframe tbody tr th {\n",
       "        vertical-align: top;\n",
       "    }\n",
       "\n",
       "    .dataframe thead th {\n",
       "        text-align: right;\n",
       "    }\n",
       "</style>\n",
       "<table border=\"1\" class=\"dataframe\">\n",
       "  <thead>\n",
       "    <tr style=\"text-align: right;\">\n",
       "      <th></th>\n",
       "      <th>Sent1</th>\n",
       "      <th>Sent2</th>\n",
       "      <th>Label</th>\n",
       "    </tr>\n",
       "  </thead>\n",
       "  <tbody>\n",
       "    <tr>\n",
       "      <th>0</th>\n",
       "      <td>Just like who knew the Taliban would be just a...</td>\n",
       "      <td>Also the EU wasn’t born out of a “let’s preven...</td>\n",
       "      <td>1</td>\n",
       "    </tr>\n",
       "    <tr>\n",
       "      <th>1</th>\n",
       "      <td>Also the EU wasn’t born out of a “let’s preven...</td>\n",
       "      <td>Their money? What money did they have before t...</td>\n",
       "      <td>1</td>\n",
       "    </tr>\n",
       "    <tr>\n",
       "      <th>2</th>\n",
       "      <td>Their money? What money did they have before t...</td>\n",
       "      <td>Well...yeah actually. It kinda sucks to listen...</td>\n",
       "      <td>1</td>\n",
       "    </tr>\n",
       "    <tr>\n",
       "      <th>3</th>\n",
       "      <td>In general, be courteous to others. Debate/dis...</td>\n",
       "      <td>Sigh. There are so many right wing monsters we...</td>\n",
       "      <td>1</td>\n",
       "    </tr>\n",
       "    <tr>\n",
       "      <th>4</th>\n",
       "      <td>Sigh. There are so many right wing monsters we...</td>\n",
       "      <td>r/politics is currently accepting new moderato...</td>\n",
       "      <td>1</td>\n",
       "    </tr>\n",
       "    <tr>\n",
       "      <th>...</th>\n",
       "      <td>...</td>\n",
       "      <td>...</td>\n",
       "      <td>...</td>\n",
       "    </tr>\n",
       "    <tr>\n",
       "      <th>51957</th>\n",
       "      <td>Which part of your comment or the one you’re r...</td>\n",
       "      <td>Okay, you’re a company and you raise your pric...</td>\n",
       "      <td>0</td>\n",
       "    </tr>\n",
       "    <tr>\n",
       "      <th>51958</th>\n",
       "      <td>Okay, you’re a company and you raise your pric...</td>\n",
       "      <td>It's greed. During the pandemic everyone rose ...</td>\n",
       "      <td>1</td>\n",
       "    </tr>\n",
       "    <tr>\n",
       "      <th>51959</th>\n",
       "      <td>It's greed. During the pandemic everyone rose ...</td>\n",
       "      <td>Seriously! When banks give interest free loans...</td>\n",
       "      <td>0</td>\n",
       "    </tr>\n",
       "    <tr>\n",
       "      <th>51960</th>\n",
       "      <td>Seriously! When banks give interest free loans...</td>\n",
       "      <td>It’s defo a ‘goody people will be desperate to...</td>\n",
       "      <td>1</td>\n",
       "    </tr>\n",
       "    <tr>\n",
       "      <th>51961</th>\n",
       "      <td>It’s defo a ‘goody people will be desperate to...</td>\n",
       "      <td>When corporations are in trouble in stock mark...</td>\n",
       "      <td>0</td>\n",
       "    </tr>\n",
       "  </tbody>\n",
       "</table>\n",
       "<p>51962 rows × 3 columns</p>\n",
       "</div>"
      ],
      "text/plain": [
       "                                                   Sent1  \\\n",
       "0      Just like who knew the Taliban would be just a...   \n",
       "1      Also the EU wasn’t born out of a “let’s preven...   \n",
       "2      Their money? What money did they have before t...   \n",
       "3      In general, be courteous to others. Debate/dis...   \n",
       "4      Sigh. There are so many right wing monsters we...   \n",
       "...                                                  ...   \n",
       "51957  Which part of your comment or the one you’re r...   \n",
       "51958  Okay, you’re a company and you raise your pric...   \n",
       "51959  It's greed. During the pandemic everyone rose ...   \n",
       "51960  Seriously! When banks give interest free loans...   \n",
       "51961  It’s defo a ‘goody people will be desperate to...   \n",
       "\n",
       "                                                   Sent2  Label  \n",
       "0      Also the EU wasn’t born out of a “let’s preven...      1  \n",
       "1      Their money? What money did they have before t...      1  \n",
       "2      Well...yeah actually. It kinda sucks to listen...      1  \n",
       "3      Sigh. There are so many right wing monsters we...      1  \n",
       "4      r/politics is currently accepting new moderato...      1  \n",
       "...                                                  ...    ...  \n",
       "51957  Okay, you’re a company and you raise your pric...      0  \n",
       "51958  It's greed. During the pandemic everyone rose ...      1  \n",
       "51959  Seriously! When banks give interest free loans...      0  \n",
       "51960  It’s defo a ‘goody people will be desperate to...      1  \n",
       "51961  When corporations are in trouble in stock mark...      0  \n",
       "\n",
       "[51962 rows x 3 columns]"
      ]
     },
     "execution_count": 41,
     "metadata": {},
     "output_type": "execute_result"
    }
   ],
   "source": [
    "train_df"
   ]
  },
  {
   "cell_type": "code",
   "execution_count": 42,
   "metadata": {},
   "outputs": [],
   "source": [
    "from transformers import RobertaTokenizer\n",
    "tokenizer = RobertaTokenizer.from_pretrained(\"roberta-base\")"
   ]
  },
  {
   "cell_type": "code",
   "execution_count": 43,
   "metadata": {},
   "outputs": [],
   "source": [
    "def tokenize_function(dataset):\n",
    "    return tokenizer(\n",
    "        df_split[\"Sent1\"],\n",
    "        df_split[\"Sent2\"],\n",
    "        truncation=True,\n",
    "        padding=True\n",
    "    )"
   ]
  },
  {
   "cell_type": "code",
   "execution_count": 25,
   "metadata": {},
   "outputs": [
    {
     "ename": "ValueError",
     "evalue": "text input must be of type `str` (single example), `List[str]` (batch or single pretokenized example) or `List[List[str]]` (batch of pretokenized examples).",
     "output_type": "error",
     "traceback": [
      "\u001b[0;31m---------------------------------------------------------------------------\u001b[0m",
      "\u001b[0;31mValueError\u001b[0m                                Traceback (most recent call last)",
      "Cell \u001b[0;32mIn[25], line 1\u001b[0m\n\u001b[0;32m----> 1\u001b[0m tokenized_training_dataset \u001b[38;5;241m=\u001b[39m train_df\u001b[38;5;241m.\u001b[39mmap(\u001b[43mtokenize_function\u001b[49m\u001b[43m(\u001b[49m\u001b[43mdf_split\u001b[49m\u001b[38;5;241;43m=\u001b[39;49m\u001b[43mtrain_df\u001b[49m\u001b[43m)\u001b[49m)\n",
      "Cell \u001b[0;32mIn[19], line 2\u001b[0m, in \u001b[0;36mtokenize_function\u001b[0;34m(df_split)\u001b[0m\n\u001b[1;32m      1\u001b[0m \u001b[38;5;28;01mdef\u001b[39;00m \u001b[38;5;21mtokenize_function\u001b[39m(df_split: pd\u001b[38;5;241m.\u001b[39mDataFrame):\n\u001b[0;32m----> 2\u001b[0m     \u001b[38;5;28;01mreturn\u001b[39;00m \u001b[43mtokenizer\u001b[49m\u001b[43m(\u001b[49m\n\u001b[1;32m      3\u001b[0m \u001b[43m        \u001b[49m\u001b[43mdf_split\u001b[49m\u001b[43m[\u001b[49m\u001b[38;5;124;43m\"\u001b[39;49m\u001b[38;5;124;43mSent1\u001b[39;49m\u001b[38;5;124;43m\"\u001b[39;49m\u001b[43m]\u001b[49m\u001b[43m,\u001b[49m\n\u001b[1;32m      4\u001b[0m \u001b[43m        \u001b[49m\u001b[43mdf_split\u001b[49m\u001b[43m[\u001b[49m\u001b[38;5;124;43m\"\u001b[39;49m\u001b[38;5;124;43mSent2\u001b[39;49m\u001b[38;5;124;43m\"\u001b[39;49m\u001b[43m]\u001b[49m\u001b[43m,\u001b[49m\n\u001b[1;32m      5\u001b[0m \u001b[43m        \u001b[49m\u001b[43mtruncation\u001b[49m\u001b[38;5;241;43m=\u001b[39;49m\u001b[38;5;28;43;01mTrue\u001b[39;49;00m\u001b[43m,\u001b[49m\n\u001b[1;32m      6\u001b[0m \u001b[43m        \u001b[49m\u001b[43mpadding\u001b[49m\u001b[38;5;241;43m=\u001b[39;49m\u001b[38;5;28;43;01mTrue\u001b[39;49;00m\n\u001b[1;32m      7\u001b[0m \u001b[43m    \u001b[49m\u001b[43m)\u001b[49m\n",
      "File \u001b[0;32m~/miniconda3/envs/writing-style-detection/lib/python3.10/site-packages/transformers/tokenization_utils_base.py:2872\u001b[0m, in \u001b[0;36mPreTrainedTokenizerBase.__call__\u001b[0;34m(self, text, text_pair, text_target, text_pair_target, add_special_tokens, padding, truncation, max_length, stride, is_split_into_words, pad_to_multiple_of, return_tensors, return_token_type_ids, return_attention_mask, return_overflowing_tokens, return_special_tokens_mask, return_offsets_mapping, return_length, verbose, **kwargs)\u001b[0m\n\u001b[1;32m   2870\u001b[0m     \u001b[38;5;28;01mif\u001b[39;00m \u001b[38;5;129;01mnot\u001b[39;00m \u001b[38;5;28mself\u001b[39m\u001b[38;5;241m.\u001b[39m_in_target_context_manager:\n\u001b[1;32m   2871\u001b[0m         \u001b[38;5;28mself\u001b[39m\u001b[38;5;241m.\u001b[39m_switch_to_input_mode()\n\u001b[0;32m-> 2872\u001b[0m     encodings \u001b[38;5;241m=\u001b[39m \u001b[38;5;28;43mself\u001b[39;49m\u001b[38;5;241;43m.\u001b[39;49m\u001b[43m_call_one\u001b[49m\u001b[43m(\u001b[49m\u001b[43mtext\u001b[49m\u001b[38;5;241;43m=\u001b[39;49m\u001b[43mtext\u001b[49m\u001b[43m,\u001b[49m\u001b[43m \u001b[49m\u001b[43mtext_pair\u001b[49m\u001b[38;5;241;43m=\u001b[39;49m\u001b[43mtext_pair\u001b[49m\u001b[43m,\u001b[49m\u001b[43m \u001b[49m\u001b[38;5;241;43m*\u001b[39;49m\u001b[38;5;241;43m*\u001b[39;49m\u001b[43mall_kwargs\u001b[49m\u001b[43m)\u001b[49m\n\u001b[1;32m   2873\u001b[0m \u001b[38;5;28;01mif\u001b[39;00m text_target \u001b[38;5;129;01mis\u001b[39;00m \u001b[38;5;129;01mnot\u001b[39;00m \u001b[38;5;28;01mNone\u001b[39;00m:\n\u001b[1;32m   2874\u001b[0m     \u001b[38;5;28mself\u001b[39m\u001b[38;5;241m.\u001b[39m_switch_to_target_mode()\n",
      "File \u001b[0;32m~/miniconda3/envs/writing-style-detection/lib/python3.10/site-packages/transformers/tokenization_utils_base.py:2930\u001b[0m, in \u001b[0;36mPreTrainedTokenizerBase._call_one\u001b[0;34m(self, text, text_pair, add_special_tokens, padding, truncation, max_length, stride, is_split_into_words, pad_to_multiple_of, return_tensors, return_token_type_ids, return_attention_mask, return_overflowing_tokens, return_special_tokens_mask, return_offsets_mapping, return_length, verbose, **kwargs)\u001b[0m\n\u001b[1;32m   2927\u001b[0m         \u001b[38;5;28;01mreturn\u001b[39;00m \u001b[38;5;28;01mFalse\u001b[39;00m\n\u001b[1;32m   2929\u001b[0m \u001b[38;5;28;01mif\u001b[39;00m \u001b[38;5;129;01mnot\u001b[39;00m _is_valid_text_input(text):\n\u001b[0;32m-> 2930\u001b[0m     \u001b[38;5;28;01mraise\u001b[39;00m \u001b[38;5;167;01mValueError\u001b[39;00m(\n\u001b[1;32m   2931\u001b[0m         \u001b[38;5;124m\"\u001b[39m\u001b[38;5;124mtext input must be of type `str` (single example), `List[str]` (batch or single pretokenized example) \u001b[39m\u001b[38;5;124m\"\u001b[39m\n\u001b[1;32m   2932\u001b[0m         \u001b[38;5;124m\"\u001b[39m\u001b[38;5;124mor `List[List[str]]` (batch of pretokenized examples).\u001b[39m\u001b[38;5;124m\"\u001b[39m\n\u001b[1;32m   2933\u001b[0m     )\n\u001b[1;32m   2935\u001b[0m \u001b[38;5;28;01mif\u001b[39;00m text_pair \u001b[38;5;129;01mis\u001b[39;00m \u001b[38;5;129;01mnot\u001b[39;00m \u001b[38;5;28;01mNone\u001b[39;00m \u001b[38;5;129;01mand\u001b[39;00m \u001b[38;5;129;01mnot\u001b[39;00m _is_valid_text_input(text_pair):\n\u001b[1;32m   2936\u001b[0m     \u001b[38;5;28;01mraise\u001b[39;00m \u001b[38;5;167;01mValueError\u001b[39;00m(\n\u001b[1;32m   2937\u001b[0m         \u001b[38;5;124m\"\u001b[39m\u001b[38;5;124mtext input must be of type `str` (single example), `List[str]` (batch or single pretokenized example) \u001b[39m\u001b[38;5;124m\"\u001b[39m\n\u001b[1;32m   2938\u001b[0m         \u001b[38;5;124m\"\u001b[39m\u001b[38;5;124mor `List[List[str]]` (batch of pretokenized examples).\u001b[39m\u001b[38;5;124m\"\u001b[39m\n\u001b[1;32m   2939\u001b[0m     )\n",
      "\u001b[0;31mValueError\u001b[0m: text input must be of type `str` (single example), `List[str]` (batch or single pretokenized example) or `List[List[str]]` (batch of pretokenized examples)."
     ]
    }
   ],
   "source": [
    "tokenized_training_dataset = train_df.map(tokenize_function(df_split=train_df))"
   ]
  },
  {
   "cell_type": "markdown",
   "metadata": {},
   "source": [
    "# Model preperation"
   ]
  },
  {
   "cell_type": "code",
   "execution_count": 106,
   "metadata": {},
   "outputs": [],
   "source": [
    "import torch\n",
    "import torch.nn as nn\n",
    "from transformers import RobertaForSequenceClassification, RobertaTokenizer"
   ]
  },
  {
   "cell_type": "code",
   "execution_count": 107,
   "metadata": {},
   "outputs": [],
   "source": [
    "def create_model(MODEL_NAME: str):\n",
    "    \"\"\"\n",
    "    Creates a RoBERTa model for the writing-style classification\n",
    "\n",
    "    Args:\n",
    "        model_name: Name of pre-trained model\n",
    "    Returns:\n",
    "        Model and tokenizer\n",
    "    \"\"\"\n",
    "    model = RobertaForSequenceClassification.from_pretrained(MODEL_NAME, num_labels=2)\n",
    "    tokenizer = RobertaTokenizer.from_pretrained(MODEL_NAME)\n",
    "    return model, tokenizer"
   ]
  },
  {
   "cell_type": "code",
   "execution_count": 96,
   "metadata": {},
   "outputs": [
    {
     "name": "stderr",
     "output_type": "stream",
     "text": [
      "Some weights of RobertaForSequenceClassification were not initialized from the model checkpoint at roberta-base and are newly initialized: ['classifier.dense.bias', 'classifier.dense.weight', 'classifier.out_proj.bias', 'classifier.out_proj.weight']\n",
      "You should probably TRAIN this model on a down-stream task to be able to use it for predictions and inference.\n"
     ]
    }
   ],
   "source": [
    "MODEL_NAME = \"roberta-base\"\n",
    "model, tokenizer = create_model(MODEL_NAME=MODEL_NAME)"
   ]
  },
  {
   "cell_type": "code",
   "execution_count": 100,
   "metadata": {},
   "outputs": [
    {
     "name": "stderr",
     "output_type": "stream",
     "text": [
      "Keyword arguments {'truncuation': True} not recognized.\n"
     ]
    },
    {
     "data": {
      "text/plain": [
       "{'input_ids': [0, 6785, 101, 54, 1467, 5, 7597, 74, 28, 95, 25, 1099, 71, 5, 382, 2468, 66, 9, 4035, 25, 137, 4, 1801, 10, 319, 9, 44014, 56, 57, 1765, 13, 5, 382, 7, 989, 13, 107, 4, 2], 'attention_mask': [1, 1, 1, 1, 1, 1, 1, 1, 1, 1, 1, 1, 1, 1, 1, 1, 1, 1, 1, 1, 1, 1, 1, 1, 1, 1, 1, 1, 1, 1, 1, 1, 1, 1, 1, 1, 1, 1, 1]}"
      ]
     },
     "execution_count": 100,
     "metadata": {},
     "output_type": "execute_result"
    }
   ],
   "source": [
    "train_encodings = tokenizer(\n",
    "    data_dict.get(\"train\")[0][0],\n",
    "    truncuation=True,\n",
    "    padding=True\n",
    ")\n",
    "train_encodings"
   ]
  },
  {
   "cell_type": "markdown",
   "metadata": {},
   "source": [
    "# Saving hyperparameters"
   ]
  },
  {
   "cell_type": "code",
   "execution_count": 81,
   "metadata": {},
   "outputs": [],
   "source": [
    "from transformers import TrainingArguments\n",
    "training_args = TrainingArguments(\n",
    "    output_dir=\"roberta_trainer\",\n",
    "    per_device_train_batch_size=32,\n",
    "    per_device_eval_batch_size=32,\n",
    "    num_train_epochs=5,\n",
    "    learning_rate=1e-3\n",
    ")"
   ]
  },
  {
   "cell_type": "code",
   "execution_count": 93,
   "metadata": {},
   "outputs": [],
   "source": []
  },
  {
   "cell_type": "code",
   "execution_count": 94,
   "metadata": {},
   "outputs": [
    {
     "name": "stdout",
     "output_type": "stream",
     "text": [
      "True\n"
     ]
    }
   ],
   "source": [
    "train_model()"
   ]
  },
  {
   "cell_type": "code",
   "execution_count": null,
   "metadata": {},
   "outputs": [],
   "source": []
  }
 ],
 "metadata": {
  "kernelspec": {
   "display_name": "writing-style-detection",
   "language": "python",
   "name": "python3"
  },
  "language_info": {
   "codemirror_mode": {
    "name": "ipython",
    "version": 3
   },
   "file_extension": ".py",
   "mimetype": "text/x-python",
   "name": "python",
   "nbconvert_exporter": "python",
   "pygments_lexer": "ipython3",
   "version": "3.10.14"
  }
 },
 "nbformat": 4,
 "nbformat_minor": 2
}
